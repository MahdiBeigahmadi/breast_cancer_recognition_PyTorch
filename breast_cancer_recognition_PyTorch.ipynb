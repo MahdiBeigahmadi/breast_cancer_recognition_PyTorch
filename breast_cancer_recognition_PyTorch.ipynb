{
  "nbformat": 4,
  "nbformat_minor": 0,
  "metadata": {
    "colab": {
      "provenance": [],
      "gpuType": "T4",
      "cell_execution_strategy": "setup",
      "toc_visible": true
    },
    "kernelspec": {
      "name": "python3",
      "display_name": "Python 3"
    },
    "language_info": {
      "name": "python"
    },
    "accelerator": "GPU"
  },
  "cells": [
    {
      "cell_type": "code",
      "execution_count": 1,
      "metadata": {
        "id": "4O_aaBwEM1ji"
      },
      "outputs": [],
      "source": [
        "import torch\n",
        "from torch import nn\n",
        "from torch.utils.data import DataLoader\n",
        "from torchvision.transforms import ToTensor\n",
        "import matplotlib.pyplot as plt\n",
        "import numpy as np\n",
        "import torch.optim as optim\n",
        "from sklearn.datasets import load_breast_cancer\n",
        "from sklearn.model_selection import train_test_split\n",
        "from sklearn.preprocessing import StandardScaler\n"
      ]
    },
    {
      "cell_type": "markdown",
      "source": [
        "device config\n"
      ],
      "metadata": {
        "id": "1WLZfF_-Ntx8"
      }
    },
    {
      "cell_type": "code",
      "source": [
        "# check for CUDA\n",
        "device = 'cuda' if torch.cuda.is_available() else 'cpu'\n",
        "print(f'Using {device} device')"
      ],
      "metadata": {
        "colab": {
          "base_uri": "https://localhost:8080/"
        },
        "id": "L5qUcad0NwN2",
        "outputId": "a7226711-2acb-4f3f-80e0-60124a7d10ef"
      },
      "execution_count": 2,
      "outputs": [
        {
          "output_type": "stream",
          "name": "stdout",
          "text": [
            "Using cuda device\n"
          ]
        }
      ]
    },
    {
      "cell_type": "code",
      "source": [
        "# load the cancer data set\n",
        "data = load_breast_cancer()\n",
        "X = data.data\n",
        "y = data.target"
      ],
      "metadata": {
        "id": "T5Omghv6TM9a"
      },
      "execution_count": 3,
      "outputs": []
    },
    {
      "cell_type": "code",
      "source": [
        "# set up the test and training sets\n",
        "xTrain, xTest, yTrain, yTest = train_test_split(X, y, test_size=0.2, random_state=42)"
      ],
      "metadata": {
        "id": "25oN-NRKTmf6"
      },
      "execution_count": 4,
      "outputs": []
    },
    {
      "cell_type": "code",
      "source": [
        "print(xTrain.shape)\n",
        "print(xTest.shape)"
      ],
      "metadata": {
        "colab": {
          "base_uri": "https://localhost:8080/"
        },
        "id": "cwF6Uy1LT0Np",
        "outputId": "3578d340-cd48-47ea-e11e-c7d82e6079a8"
      },
      "execution_count": 5,
      "outputs": [
        {
          "output_type": "stream",
          "name": "stdout",
          "text": [
            "(455, 30)\n",
            "(114, 30)\n"
          ]
        }
      ]
    },
    {
      "cell_type": "code",
      "source": [
        "# standardize the data\n",
        "scaler = StandardScaler()\n",
        "xTrain = scaler.fit_transform(xTrain)\n",
        "xTest = scaler.transform(xTest)"
      ],
      "metadata": {
        "id": "ahbJDeYXT3DR"
      },
      "execution_count": 6,
      "outputs": []
    },
    {
      "cell_type": "code",
      "source": [
        "# add the data to the cuda device\n",
        "xTrain = torch.tensor(xTrain, dtype=torch.float32).to(device)\n",
        "xTest = torch.tensor(xTest, dtype=torch.float32).to(device)\n",
        "yTest = torch.tensor(yTest, dtype=torch.float32).to(device)\n",
        "yTrain = torch.tensor(yTrain, dtype=torch.float32).to(device)"
      ],
      "metadata": {
        "id": "dmPOpUZBVOlG"
      },
      "execution_count": 7,
      "outputs": []
    },
    {
      "cell_type": "code",
      "source": [
        "# create the neural network\n",
        "class NeuralNetwork(nn.Module):\n",
        "     def __init__(self, inputSize, hiddenSize, outputSize):\n",
        "          super(NeuralNetwork, self).__init__()\n",
        "          self.fc1 = nn.Linear(inputSize, hiddenSize)\n",
        "          self.relu = nn.ReLU()\n",
        "          self.fc2 = nn.Linear(hiddenSize, outputSize)\n",
        "          self.sigmoid = nn.Sigmoid()\n",
        "\n",
        "     def forward(self, x):\n",
        "          out = self.fc1(x)\n",
        "          out = self.relu(out)\n",
        "          out = self.fc2(out)\n",
        "          out = self.sigmoid(out)\n",
        "          return out"
      ],
      "metadata": {
        "id": "lVw6U6G_V0Mo"
      },
      "execution_count": 8,
      "outputs": []
    },
    {
      "cell_type": "code",
      "source": [
        "# need to define the hyperparams\n",
        "inputSize = xTrain.shape[1]\n",
        "hiddenSize = 64\n",
        "outputSize = 1\n",
        "learningRate = 0.001\n",
        "epochs = 100\n"
      ],
      "metadata": {
        "id": "ihdRCWIQZxRl"
      },
      "execution_count": 9,
      "outputs": []
    },
    {
      "cell_type": "code",
      "source": [
        "# init the model and move it to GPU\n",
        "model = NeuralNetwork(inputSize, hiddenSize, outputSize).to(device)"
      ],
      "metadata": {
        "id": "byi4gvVRaM7M"
      },
      "execution_count": 10,
      "outputs": []
    },
    {
      "cell_type": "code",
      "source": [
        "# define the loss and optimizer\n",
        "criterion = nn.BCELoss()\n",
        "optimizer = optim.Adam(model.parameters(), learningRate)"
      ],
      "metadata": {
        "id": "ZI76nsTxaetR"
      },
      "execution_count": 11,
      "outputs": []
    },
    {
      "cell_type": "code",
      "source": [
        "# train the model\n",
        "for epoch in range(epochs):\n",
        "  model.train()\n",
        "  optimizer.zero_grad()\n",
        "  outputs = model(xTrain)\n",
        "  loss = criterion(outputs, yTrain.view(-1, 1))\n",
        "  loss.backward()\n",
        "  optimizer.step()\n",
        "  # find the accuracy\n",
        "  with torch.no_grad():\n",
        "    predicted = outputs.round()\n",
        "    correct = (predicted == yTrain.view(-1, 1)).float().sum()\n",
        "    accuracy = correct / yTrain.size(0)\n",
        "  if (epoch + 1) % 10 == 0:\n",
        "     print(f\"Epoch[{epoch + 1}/100]\")\n",
        "     print(f\"Loss : {loss.item():.4f}\")\n",
        "     print(f\"Accuracy {accuracy * 100}\\n\")"
      ],
      "metadata": {
        "id": "2787uUKMa7qW",
        "colab": {
          "base_uri": "https://localhost:8080/"
        },
        "outputId": "ec7e4792-710b-40ce-c05a-c8dbd84c8923"
      },
      "execution_count": 24,
      "outputs": [
        {
          "output_type": "stream",
          "name": "stdout",
          "text": [
            "Epoch[10/100]\n",
            "Loss : 0.0059\n",
            "Accuracy 100.0\n",
            "\n",
            "Epoch[20/100]\n",
            "Loss : 0.0057\n",
            "Accuracy 100.0\n",
            "\n",
            "Epoch[30/100]\n",
            "Loss : 0.0056\n",
            "Accuracy 100.0\n",
            "\n",
            "Epoch[40/100]\n",
            "Loss : 0.0055\n",
            "Accuracy 100.0\n",
            "\n",
            "Epoch[50/100]\n",
            "Loss : 0.0053\n",
            "Accuracy 100.0\n",
            "\n",
            "Epoch[60/100]\n",
            "Loss : 0.0052\n",
            "Accuracy 100.0\n",
            "\n",
            "Epoch[70/100]\n",
            "Loss : 0.0051\n",
            "Accuracy 100.0\n",
            "\n",
            "Epoch[80/100]\n",
            "Loss : 0.0050\n",
            "Accuracy 100.0\n",
            "\n",
            "Epoch[90/100]\n",
            "Loss : 0.0049\n",
            "Accuracy 100.0\n",
            "\n",
            "Epoch[100/100]\n",
            "Loss : 0.0047\n",
            "Accuracy 100.0\n",
            "\n"
          ]
        }
      ]
    },
    {
      "cell_type": "code",
      "source": [
        "# model evaluation on training set\n",
        "model.eval()\n",
        "with torch.no_grad():\n",
        "  outputs = model(xTrain)\n",
        "  prediction = outputs.round()\n",
        "  correction = (prediction == yTrain.view(-1, 1)).float().sum()\n",
        "  accuracy = correction / yTrain.size(0)\n",
        "  print(f\"Accuracy on the training set is {accuracy * 100:.2f}\")"
      ],
      "metadata": {
        "colab": {
          "base_uri": "https://localhost:8080/"
        },
        "id": "LY8u5kBjobCY",
        "outputId": "7cb24ccb-b37f-42fa-ec60-70915f9b7de1"
      },
      "execution_count": 34,
      "outputs": [
        {
          "output_type": "stream",
          "name": "stdout",
          "text": [
            "Accuracy on the training set is 100.00\n"
          ]
        }
      ]
    },
    {
      "cell_type": "code",
      "source": [
        "# model evaluation on test set\n",
        "model.eval()\n",
        "with torch.no_grad():\n",
        "  outputs = model(xTest)\n",
        "  prediction = outputs.round()\n",
        "  correction = (prediction == yTest.view(-1, 1)).float().sum()\n",
        "  accuracy = correction / yTest.size(0)\n",
        "  print(f\"Accuracy on the test set is {accuracy * 100:.2f}\")"
      ],
      "metadata": {
        "colab": {
          "base_uri": "https://localhost:8080/"
        },
        "id": "CtdIDmQ5pz3D",
        "outputId": "12f1bfaa-4765-4d5e-8a17-2b0d82323716"
      },
      "execution_count": 33,
      "outputs": [
        {
          "output_type": "stream",
          "name": "stdout",
          "text": [
            "Accuracy on the test set is 97.37\n"
          ]
        }
      ]
    }
  ]
}